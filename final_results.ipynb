{
 "cells": [
  {
   "cell_type": "markdown",
   "id": "c5fb8fd3",
   "metadata": {},
   "source": [
    "# Clinical and CORD-19 Retrieval Evaluation\n",
    "This notebook implements the evaluation function for clinical trials and CORD-19 retrieval systems using TF-IDF, Word2Vec, and hybrid modes."
   ]
  },
  {
   "cell_type": "code",
   "execution_count": 2,
   "id": "51457541",
   "metadata": {
    "ExecuteTime": {
     "end_time": "2025-07-09T16:57:51.840430Z",
     "start_time": "2025-07-09T16:57:51.835946Z"
    }
   },
   "outputs": [],
   "source": [
    "from tqdm import tqdm\n",
    "from clinical_trials_retrieval import ClinicalTrialsRetrieval\n",
    "from cord19_retrieval import Cord19Retrieval"
   ]
  },
  {
   "cell_type": "code",
   "execution_count": 3,
   "id": "eb2dbb7f",
   "metadata": {
    "ExecuteTime": {
     "end_time": "2025-07-09T16:57:52.087975Z",
     "start_time": "2025-07-09T16:57:52.081975Z"
    }
   },
   "outputs": [],
   "source": [
    "\n",
    "def evaluate_dataset(retrieval_system, mode=\"tfidf\", top_n=10, use_topic_filter=False):\n",
    "    ap_list = []\n",
    "    recall_list = []\n",
    "    rr_list = []\n",
    "\n",
    "    for query in tqdm(retrieval_system.dataset.queries_iter()):\n",
    "        query_id = query.query_id\n",
    "        query_text = getattr(query, \"text\", None) or f\"{query.title} {query.description}\"\n",
    "\n",
    "        if mode == \"tfidf\":\n",
    "            results = retrieval_system.search(query_text, top_n)\n",
    "        elif mode == \"word2vec\":\n",
    "            results = retrieval_system.search_word2vec(query_text, top_n)\n",
    "        elif mode == \"hybrid\":\n",
    "            results = retrieval_system.search_hybrid(query_text, top_n, use_topic_filter)\n",
    "        else:\n",
    "            raise ValueError(\"Invalid mode selected.\")\n",
    "\n",
    "        doc_ids = [doc[\"doc_id\"] for doc in results]\n",
    "        eval_result = retrieval_system.evaluate(query_id, doc_ids)\n",
    "\n",
    "        ap_list.append(eval_result[\"average_precision\"])\n",
    "        recall_list.append(eval_result[\"recall\"])\n",
    "        rr_list.append(eval_result[\"reciprocal_rank\"])\n",
    "\n",
    "    map_score = sum(ap_list) / len(ap_list)\n",
    "    mean_recall = sum(recall_list) / len(recall_list)\n",
    "    mrr = sum(rr_list) / len(rr_list)\n",
    "\n",
    "    print(f\"\\n=== Evaluation Results ({retrieval_system.__class__.__name__}) ===\")\n",
    "    print(f\"Mode: {mode}\")\n",
    "    print(f\"Queries evaluated: {len(ap_list)}\")\n",
    "    print(f\"MAP: {map_score:.4f}\")\n",
    "    print(f\"Mean Recall: {mean_recall:.4f}\")\n",
    "    print(f\"MRR: {mrr:.4f}\")\n"
   ]
  },
  {
   "cell_type": "markdown",
   "id": "ba2b0605a289e8d8",
   "metadata": {},
   "source": [
    "Instantiate systems"
   ]
  },
  {
   "cell_type": "code",
   "execution_count": 4,
   "id": "244607be31bf5d24",
   "metadata": {
    "ExecuteTime": {
     "end_time": "2025-07-09T16:58:54.327373Z",
     "start_time": "2025-07-09T16:57:52.288140Z"
    }
   },
   "outputs": [
    {
     "name": "stderr",
     "output_type": "stream",
     "text": [
      "C:\\Users\\olexd\\PycharmProjects\\PythonProject2\\.venv\\Lib\\site-packages\\sklearn\\base.py:440: InconsistentVersionWarning: Trying to unpickle estimator TfidfTransformer from version 1.6.1 when using version 1.7.0. This might lead to breaking code or invalid results. Use at your own risk. For more info please refer to:\n",
      "https://scikit-learn.org/stable/model_persistence.html#security-maintainability-limitations\n",
      "  warnings.warn(\n",
      "C:\\Users\\olexd\\PycharmProjects\\PythonProject2\\.venv\\Lib\\site-packages\\sklearn\\base.py:440: InconsistentVersionWarning: Trying to unpickle estimator TfidfVectorizer from version 1.6.1 when using version 1.7.0. This might lead to breaking code or invalid results. Use at your own risk. For more info please refer to:\n",
      "https://scikit-learn.org/stable/model_persistence.html#security-maintainability-limitations\n",
      "  warnings.warn(\n",
      "[nltk_data] Downloading package punkt to\n",
      "[nltk_data]     C:\\Users\\olexd\\AppData\\Roaming\\nltk_data...\n",
      "[nltk_data]   Package punkt is already up-to-date!\n",
      "[nltk_data] Downloading package punkt_tab to\n",
      "[nltk_data]     C:\\Users\\olexd\\AppData\\Roaming\\nltk_data...\n",
      "[nltk_data]   Package punkt_tab is already up-to-date!\n",
      "[nltk_data] Downloading package stopwords to\n",
      "[nltk_data]     C:\\Users\\olexd\\AppData\\Roaming\\nltk_data...\n",
      "[nltk_data]   Package stopwords is already up-to-date!\n",
      "[nltk_data] Downloading package wordnet to\n",
      "[nltk_data]     C:\\Users\\olexd\\AppData\\Roaming\\nltk_data...\n",
      "[nltk_data]   Package wordnet is already up-to-date!\n",
      "[nltk_data] Downloading package omw-1.4 to\n",
      "[nltk_data]     C:\\Users\\olexd\\AppData\\Roaming\\nltk_data...\n",
      "[nltk_data]   Package omw-1.4 is already up-to-date!\n",
      "[nltk_data] Downloading package punkt to\n",
      "[nltk_data]     C:\\Users\\olexd\\AppData\\Roaming\\nltk_data...\n",
      "[nltk_data]   Package punkt is already up-to-date!\n",
      "[nltk_data] Downloading package punkt_tab to\n",
      "[nltk_data]     C:\\Users\\olexd\\AppData\\Roaming\\nltk_data...\n",
      "[nltk_data]   Package punkt_tab is already up-to-date!\n",
      "[nltk_data] Downloading package stopwords to\n",
      "[nltk_data]     C:\\Users\\olexd\\AppData\\Roaming\\nltk_data...\n",
      "[nltk_data]   Package stopwords is already up-to-date!\n",
      "[nltk_data] Downloading package wordnet to\n",
      "[nltk_data]     C:\\Users\\olexd\\AppData\\Roaming\\nltk_data...\n",
      "[nltk_data]   Package wordnet is already up-to-date!\n",
      "[nltk_data] Downloading package omw-1.4 to\n",
      "[nltk_data]     C:\\Users\\olexd\\AppData\\Roaming\\nltk_data...\n",
      "[nltk_data]   Package omw-1.4 is already up-to-date!\n"
     ]
    }
   ],
   "source": [
    "clinical = ClinicalTrialsRetrieval()\n",
    "cord19 = Cord19Retrieval()"
   ]
  },
  {
   "cell_type": "markdown",
   "id": "4305adfa60f6bbb0",
   "metadata": {},
   "source": [
    "Run evaluations"
   ]
  },
  {
   "cell_type": "code",
   "execution_count": 5,
   "id": "9dfa364d",
   "metadata": {
    "ExecuteTime": {
     "end_time": "2025-07-09T17:02:38.442891Z",
     "start_time": "2025-07-09T16:58:54.382619Z"
    }
   },
   "outputs": [
    {
     "name": "stderr",
     "output_type": "stream",
     "text": [
      "75it [02:57,  2.36s/it]\n"
     ]
    },
    {
     "name": "stdout",
     "output_type": "stream",
     "text": [
      "\n",
      "=== Evaluation Results (ClinicalTrialsRetrieval) ===\n",
      "Mode: hybrid\n",
      "Queries evaluated: 75\n",
      "MAP: 0.0303\n",
      "Mean Recall: 0.0412\n",
      "MRR: 0.6503\n"
     ]
    },
    {
     "name": "stderr",
     "output_type": "stream",
     "text": [
      "50it [00:46,  1.07it/s]"
     ]
    },
    {
     "name": "stdout",
     "output_type": "stream",
     "text": [
      "\n",
      "=== Evaluation Results (Cord19Retrieval) ===\n",
      "Mode: hybrid\n",
      "Queries evaluated: 50\n",
      "MAP: 0.0097\n",
      "Mean Recall: 0.0123\n",
      "MRR: 0.6721\n"
     ]
    },
    {
     "name": "stderr",
     "output_type": "stream",
     "text": [
      "\n"
     ]
    }
   ],
   "source": [
    "evaluate_dataset(clinical, mode=\"hybrid\", top_n=10)\n",
    "evaluate_dataset(cord19, mode=\"hybrid\", top_n=10)\n",
    "\n",
    "# evaluate_dataset(clinical, mode=\"word2vec\", top_n=10)\n",
    "# evaluate_dataset(cord19, mode=\"hybrid\", top_n=10, use_topic_filter=True)"
   ]
  }
 ],
 "metadata": {
  "kernelspec": {
   "display_name": "Python 3 (ipykernel)",
   "language": "python",
   "name": "python3"
  },
  "language_info": {
   "codemirror_mode": {
    "name": "ipython",
    "version": 3
   },
   "file_extension": ".py",
   "mimetype": "text/x-python",
   "name": "python",
   "nbconvert_exporter": "python",
   "pygments_lexer": "ipython3",
   "version": "3.13.5"
  }
 },
 "nbformat": 4,
 "nbformat_minor": 5
}
